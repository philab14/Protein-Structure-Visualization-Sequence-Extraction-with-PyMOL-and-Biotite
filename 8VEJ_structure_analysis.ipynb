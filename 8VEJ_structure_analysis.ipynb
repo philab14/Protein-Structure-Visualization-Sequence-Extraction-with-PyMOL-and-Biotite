# -------------------------------------------------------------
# 🛠️ Install required dependencies
# -------------------------------------------------------------
!apt-get update -y        
!apt-get install -y pymol          # install open-source PyMOL
!pip install biotite py3Dmol       # biotite for sequence & structure handling
!pip install icecream              # debugging tool

# -------------------------------------------------------------
# 📥 Fetch PDB file from RCSB (example: 8VEJ)
# -------------------------------------------------------------
from biotite.database.rcsb import fetch
from biotite.structure.io.pdb import PDBFile
import os

pdb_file = fetch("8VEJ", "pdb", os.getcwd())
print("Downloaded:", pdb_file)

# -------------------------------------------------------------
# 🔎 Read PDB file into Biotite
# -------------------------------------------------------------
pdb = PDBFile.read(pdb_file)
atom_array = pdb.get_structure(model=1)  # use the first model
atom_array[:10]   # display first 10 atoms

# -------------------------------------------------------------
# 🎨 Visualize structure with py3Dmol
# -------------------------------------------------------------
import io, py3Dmol
from IPython.display import display

# Convert AtomArray → PDB text
buffer = io.StringIO()
pdb_out = PDBFile()
pdb_out.set_structure(atom_array)
pdb_out.write(buffer)
pdb_text = buffer.getvalue()

# Display cartoon model
view = py3Dmol.view(width=500, height=450)
view.addModel(pdb_text, 'pdb')
view.setStyle({'cartoon': {}})
view.zoomTo()
view.show()

# Example: Show ligand in chain B as sticks
# view.addStyle({'chain': 'B', 'hetflag': True},
#               {'stick': {'radius': 0.25, 'colorscheme': 'element'}})
# view.zoomTo()
# view.show()

# -------------------------------------------------------------
# 🧬 Extract sequence of Chain A
# -------------------------------------------------------------
import numpy as np
from biotite.sequence import ProteinSequence

mask = (atom_array.atom_name == 'CA') & (atom_array.chain_id == 'A')
res_ids = atom_array.res_id[mask]
uniq_idx = np.sort(np.unique(res_ids, return_index=True)[1])
res_3letter = atom_array.res_name[mask][uniq_idx]

seq = ''.join(ProteinSequence(res_3letter.tolist()))

print("Chain A length:", len(seq))
print(seq)

# Example: get the 6th residue (index starts from 0)
print(f"6th amino acid: {seq[5]}")
